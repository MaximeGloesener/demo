{
  "cells": [
    {
      "cell_type": "code",
      "execution_count": 5,
      "metadata": {},
      "outputs": [],
      "source": [
        "import os\n",
        "import shutil\n",
        "import random\n",
        "from tqdm import tqdm\n",
        "from ultralytics import YOLO"
      ]
    },
    {
      "cell_type": "code",
      "execution_count": 6,
      "metadata": {
        "id": "fXzthfb3fVHL"
      },
      "outputs": [],
      "source": [
        "# Function to copy files\n",
        "def copy_files(files, split, image_dir, label_dir):\n",
        "    print('Copying files to', os.path.join(split))\n",
        "    for file in tqdm(files):\n",
        "        shutil.copy(os.path.join(image_dir, file + '.jpg'), os.path.join(split, 'images'))\n",
        "        shutil.copy(os.path.join(label_dir, file + '.txt'), os.path.join(split, 'labels'))\n",
        "\n",
        "def create_splits(image_dir, label_dir, train_pct, val_pct, max_samples=None):\n",
        "    # Make sure the percentages add up to 100\n",
        "    assert train_pct + val_pct <= 1.0, \"Train and validation percentages should sum up to 1.0 or less\"\n",
        "\n",
        "    # Create directories for the splits if they don't exist\n",
        "    for split in ['train', 'val', 'test']:\n",
        "        for sub_dir in ['images', 'labels']:\n",
        "            os.makedirs(os.path.join(split, sub_dir), exist_ok=True)\n",
        "\n",
        "    # Gather all file names (without extensions)\n",
        "    file_names = [os.path.splitext(file)[0] for file in os.listdir(image_dir)]\n",
        "\n",
        "    # Shuffle the file names\n",
        "    random.shuffle(file_names)\n",
        "\n",
        "    # If max_samples is set, truncate the list\n",
        "    if max_samples is not None:\n",
        "        file_names = file_names[:max_samples]\n",
        "\n",
        "    # Calculate split sizes\n",
        "    total_files = len(file_names)\n",
        "    train_size = int(total_files * train_pct)\n",
        "    val_size = int(total_files * val_pct)\n",
        "\n",
        "    # Split the file names\n",
        "    train_files = file_names[:train_size]\n",
        "    val_files = file_names[train_size:train_size + val_size]\n",
        "    test_files = file_names[train_size + val_size:]\n",
        "\n",
        "\n",
        "    # Copy files to respective directories\n",
        "    copy_files(train_files, 'train', image_dir, label_dir)\n",
        "    copy_files(val_files, 'val', image_dir, label_dir)\n",
        "    copy_files(test_files, 'test', image_dir, label_dir)\n",
        "\n",
        "    print(f\"\\nDataset split complete: {len(train_files)} train, {len(val_files)} val, {len(test_files)} test samples.\")"
      ]
    },
    {
      "cell_type": "code",
      "execution_count": 7,
      "metadata": {
        "colab": {
          "base_uri": "https://localhost:8080/"
        },
        "id": "M1f8o5hbfVtK",
        "outputId": "4a4387b3-4d66-420a-eb66-568435d19445"
      },
      "outputs": [
        {
          "name": "stdout",
          "output_type": "stream",
          "text": [
            "Copying files to train\n"
          ]
        },
        {
          "name": "stderr",
          "output_type": "stream",
          "text": [
            "100%|██████████| 16382/16382 [00:02<00:00, 6780.41it/s]\n"
          ]
        },
        {
          "name": "stdout",
          "output_type": "stream",
          "text": [
            "Copying files to val\n"
          ]
        },
        {
          "name": "stderr",
          "output_type": "stream",
          "text": [
            "100%|██████████| 4680/4680 [00:00<00:00, 6801.29it/s]\n"
          ]
        },
        {
          "name": "stdout",
          "output_type": "stream",
          "text": [
            "Copying files to test\n"
          ]
        },
        {
          "name": "stderr",
          "output_type": "stream",
          "text": [
            "100%|██████████| 2342/2342 [00:00<00:00, 6583.84it/s]"
          ]
        },
        {
          "name": "stdout",
          "output_type": "stream",
          "text": [
            "\n",
            "Dataset split complete: 16382 train, 4680 val, 2342 test samples.\n"
          ]
        },
        {
          "name": "stderr",
          "output_type": "stream",
          "text": [
            "\n"
          ]
        }
      ],
      "source": [
        "# Create the dataset for the correct task (segmentation or detection)\n",
        "task = \"detection\"\n",
        "create_splits('images', task, train_pct=0.7, val_pct=0.2)"
      ]
    },
    {
      "cell_type": "code",
      "execution_count": 13,
      "metadata": {
        "id": "0xpaF0qCgHDM"
      },
      "outputs": [
        {
          "name": "stdout",
          "output_type": "stream",
          "text": [
            "New https://pypi.org/project/ultralytics/8.2.96 available 😃 Update with 'pip install -U ultralytics'\n",
            "Ultralytics YOLOv8.2.95 🚀 Python-3.12.5 torch-2.4.0+cu121 CUDA:0 (NVIDIA GeForce RTX 4090, 24209MiB)\n",
            "\u001b[34m\u001b[1mengine/trainer: \u001b[0mtask=detect, mode=train, model=yolov8n.pt, data=data.yaml, epochs=20, time=None, patience=100, batch=16, imgsz=640, save=True, save_period=-1, cache=False, device=None, workers=8, project=None, name=train6, exist_ok=False, pretrained=True, optimizer=auto, verbose=True, seed=0, deterministic=True, single_cls=False, rect=False, cos_lr=False, close_mosaic=10, resume=False, amp=True, fraction=1.0, profile=False, freeze=None, multi_scale=False, overlap_mask=True, mask_ratio=4, dropout=0.0, val=True, split=val, save_json=False, save_hybrid=False, conf=None, iou=0.7, max_det=300, half=False, dnn=False, plots=True, source=None, vid_stride=1, stream_buffer=False, visualize=False, augment=False, agnostic_nms=False, classes=None, retina_masks=False, embed=None, show=False, save_frames=False, save_txt=False, save_conf=False, save_crop=False, show_labels=True, show_conf=True, show_boxes=True, line_width=None, format=torchscript, keras=False, optimize=False, int8=False, dynamic=False, simplify=False, opset=None, workspace=4, nms=False, lr0=0.01, lrf=0.01, momentum=0.937, weight_decay=0.0005, warmup_epochs=3.0, warmup_momentum=0.8, warmup_bias_lr=0.1, box=7.5, cls=0.5, dfl=1.5, pose=12.0, kobj=1.0, label_smoothing=0.0, nbs=64, hsv_h=0.015, hsv_s=0.7, hsv_v=0.4, degrees=0.0, translate=0.1, scale=0.5, shear=0.0, perspective=0.0, flipud=0.0, fliplr=0.5, bgr=0.0, mosaic=1.0, mixup=0.0, copy_paste=0.0, auto_augment=randaugment, erasing=0.4, crop_fraction=1.0, cfg=None, tracker=botsort.yaml, save_dir=runs/detect/train6\n",
            "Downloading https://ultralytics.com/assets/Arial.ttf to '/home/maxglo/.config/Ultralytics/Arial.ttf'...\n"
          ]
        },
        {
          "name": "stderr",
          "output_type": "stream",
          "text": [
            "100%|██████████| 755k/755k [00:00<00:00, 31.0MB/s]"
          ]
        },
        {
          "name": "stdout",
          "output_type": "stream",
          "text": [
            "Overriding model.yaml nc=80 with nc=13\n",
            "\n",
            "                   from  n    params  module                                       arguments                     \n",
            "  0                  -1  1       464  ultralytics.nn.modules.conv.Conv             [3, 16, 3, 2]                 \n",
            "  1                  -1  1      4672  ultralytics.nn.modules.conv.Conv             [16, 32, 3, 2]                \n",
            "  2                  -1  1      7360  ultralytics.nn.modules.block.C2f             [32, 32, 1, True]             \n",
            "  3                  -1  1     18560  ultralytics.nn.modules.conv.Conv             [32, 64, 3, 2]                \n",
            "  4                  -1  2     49664  ultralytics.nn.modules.block.C2f             [64, 64, 2, True]             \n",
            "  5                  -1  1     73984  ultralytics.nn.modules.conv.Conv             [64, 128, 3, 2]               \n",
            "  6                  -1  2    197632  ultralytics.nn.modules.block.C2f             [128, 128, 2, True]           \n",
            "  7                  -1  1    295424  ultralytics.nn.modules.conv.Conv             [128, 256, 3, 2]              \n",
            "  8                  -1  1    460288  ultralytics.nn.modules.block.C2f             [256, 256, 1, True]           \n",
            "  9                  -1  1    164608  ultralytics.nn.modules.block.SPPF            [256, 256, 5]                 \n",
            " 10                  -1  1         0  torch.nn.modules.upsampling.Upsample         [None, 2, 'nearest']          \n",
            " 11             [-1, 6]  1         0  ultralytics.nn.modules.conv.Concat           [1]                           \n",
            " 12                  -1  1    148224  ultralytics.nn.modules.block.C2f             [384, 128, 1]                 \n",
            " 13                  -1  1         0  torch.nn.modules.upsampling.Upsample         [None, 2, 'nearest']          \n",
            " 14             [-1, 4]  1         0  ultralytics.nn.modules.conv.Concat           [1]                           \n",
            " 15                  -1  1     37248  ultralytics.nn.modules.block.C2f             [192, 64, 1]                  \n",
            " 16                  -1  1     36992  ultralytics.nn.modules.conv.Conv             [64, 64, 3, 2]                \n",
            " 17            [-1, 12]  1         0  ultralytics.nn.modules.conv.Concat           [1]                           \n",
            " 18                  -1  1    123648  ultralytics.nn.modules.block.C2f             [192, 128, 1]                 \n",
            " 19                  -1  1    147712  ultralytics.nn.modules.conv.Conv             [128, 128, 3, 2]              \n",
            " 20             [-1, 9]  1         0  ultralytics.nn.modules.conv.Concat           [1]                           \n",
            " 21                  -1  1    493056  ultralytics.nn.modules.block.C2f             [384, 256, 1]                 \n",
            " 22        [15, 18, 21]  1    753847  ultralytics.nn.modules.head.Detect           [13, [64, 128, 256]]          \n"
          ]
        },
        {
          "name": "stderr",
          "output_type": "stream",
          "text": [
            "\n"
          ]
        },
        {
          "name": "stdout",
          "output_type": "stream",
          "text": [
            "Model summary: 225 layers, 3,013,383 parameters, 3,013,367 gradients, 8.2 GFLOPs\n",
            "\n",
            "Transferred 319/355 items from pretrained weights\n"
          ]
        },
        {
          "name": "stderr",
          "output_type": "stream",
          "text": [
            "\u001b[34m\u001b[1mwandb\u001b[0m: Using wandb-core as the SDK backend. Please refer to https://wandb.me/wandb-core for more information.\n",
            "\u001b[34m\u001b[1mwandb\u001b[0m: Currently logged in as: \u001b[33mmaxglo\u001b[0m. Use \u001b[1m`wandb login --relogin`\u001b[0m to force relogin\n"
          ]
        },
        {
          "data": {
            "text/html": [
              "Tracking run with wandb version 0.18.1"
            ],
            "text/plain": [
              "<IPython.core.display.HTML object>"
            ]
          },
          "metadata": {},
          "output_type": "display_data"
        },
        {
          "data": {
            "text/html": [
              "Run data is saved locally in <code>/home/maxglo/maxime/demo/wandb/run-20240918_134715-rg3arrw8</code>"
            ],
            "text/plain": [
              "<IPython.core.display.HTML object>"
            ]
          },
          "metadata": {},
          "output_type": "display_data"
        },
        {
          "data": {
            "text/html": [
              "Syncing run <strong><a href='https://wandb.ai/maxglo/YOLOv8/runs/rg3arrw8' target=\"_blank\">train6</a></strong> to <a href='https://wandb.ai/maxglo/YOLOv8' target=\"_blank\">Weights & Biases</a> (<a href='https://wandb.me/run' target=\"_blank\">docs</a>)<br/>"
            ],
            "text/plain": [
              "<IPython.core.display.HTML object>"
            ]
          },
          "metadata": {},
          "output_type": "display_data"
        },
        {
          "data": {
            "text/html": [
              " View project at <a href='https://wandb.ai/maxglo/YOLOv8' target=\"_blank\">https://wandb.ai/maxglo/YOLOv8</a>"
            ],
            "text/plain": [
              "<IPython.core.display.HTML object>"
            ]
          },
          "metadata": {},
          "output_type": "display_data"
        },
        {
          "data": {
            "text/html": [
              " View run at <a href='https://wandb.ai/maxglo/YOLOv8/runs/rg3arrw8' target=\"_blank\">https://wandb.ai/maxglo/YOLOv8/runs/rg3arrw8</a>"
            ],
            "text/plain": [
              "<IPython.core.display.HTML object>"
            ]
          },
          "metadata": {},
          "output_type": "display_data"
        },
        {
          "name": "stdout",
          "output_type": "stream",
          "text": [
            "Freezing layer 'model.22.dfl.conv.weight'\n",
            "\u001b[34m\u001b[1mAMP: \u001b[0mrunning Automatic Mixed Precision (AMP) checks with YOLOv8n...\n",
            "\u001b[34m\u001b[1mAMP: \u001b[0mchecks passed ✅\n"
          ]
        },
        {
          "name": "stderr",
          "output_type": "stream",
          "text": [
            "\u001b[34m\u001b[1mtrain: \u001b[0mScanning /home/maxglo/maxime/demo/datasets/train/labels... 16382 images, 0 backgrounds, 0 corrupt: 100%|██████████| 16382/16382 [00:02<00:00, 5991.33it/s]"
          ]
        },
        {
          "name": "stdout",
          "output_type": "stream",
          "text": [
            "\u001b[34m\u001b[1mtrain: \u001b[0mWARNING ⚠️ /home/maxglo/maxime/demo/datasets/train/images/0008711.jpg: 1 duplicate labels removed\n",
            "\u001b[34m\u001b[1mtrain: \u001b[0mWARNING ⚠️ /home/maxglo/maxime/demo/datasets/train/images/0010333.jpg: 1 duplicate labels removed\n",
            "\u001b[34m\u001b[1mtrain: \u001b[0mWARNING ⚠️ /home/maxglo/maxime/demo/datasets/train/images/0015612.jpg: 1 duplicate labels removed\n",
            "\u001b[34m\u001b[1mtrain: \u001b[0mWARNING ⚠️ /home/maxglo/maxime/demo/datasets/train/images/0016190.jpg: 1 duplicate labels removed\n"
          ]
        },
        {
          "name": "stderr",
          "output_type": "stream",
          "text": [
            "\n"
          ]
        },
        {
          "name": "stdout",
          "output_type": "stream",
          "text": [
            "\u001b[34m\u001b[1mtrain: \u001b[0mNew cache created: /home/maxglo/maxime/demo/datasets/train/labels.cache\n"
          ]
        },
        {
          "name": "stderr",
          "output_type": "stream",
          "text": [
            "\u001b[34m\u001b[1mval: \u001b[0mScanning /home/maxglo/maxime/demo/datasets/val/labels... 4680 images, 0 backgrounds, 0 corrupt: 100%|██████████| 4680/4680 [00:01<00:00, 4533.50it/s]"
          ]
        },
        {
          "name": "stdout",
          "output_type": "stream",
          "text": [
            "\u001b[34m\u001b[1mval: \u001b[0mNew cache created: /home/maxglo/maxime/demo/datasets/val/labels.cache\n"
          ]
        },
        {
          "name": "stderr",
          "output_type": "stream",
          "text": [
            "\n"
          ]
        },
        {
          "name": "stdout",
          "output_type": "stream",
          "text": [
            "Plotting labels to runs/detect/train6/labels.jpg... \n",
            "\u001b[34m\u001b[1moptimizer:\u001b[0m 'optimizer=auto' found, ignoring 'lr0=0.01' and 'momentum=0.937' and determining best 'optimizer', 'lr0' and 'momentum' automatically... \n",
            "\u001b[34m\u001b[1moptimizer:\u001b[0m AdamW(lr=0.000588, momentum=0.9) with parameter groups 57 weight(decay=0.0), 64 weight(decay=0.0005), 63 bias(decay=0.0)\n",
            "Image sizes 640 train, 640 val\n",
            "Using 8 dataloader workers\n",
            "Logging results to \u001b[1mruns/detect/train6\u001b[0m\n",
            "Starting training for 20 epochs...\n",
            "\n",
            "      Epoch    GPU_mem   box_loss   cls_loss   dfl_loss  Instances       Size\n"
          ]
        },
        {
          "name": "stderr",
          "output_type": "stream",
          "text": [
            "       1/20      2.86G      1.378      2.113      1.177        239        640: 100%|██████████| 1024/1024 [00:40<00:00, 25.16it/s]\n",
            "                 Class     Images  Instances      Box(P          R      mAP50  mAP50-95): 100%|██████████| 147/147 [00:07<00:00, 20.04it/s]\n"
          ]
        },
        {
          "name": "stdout",
          "output_type": "stream",
          "text": [
            "                   all       4680      27382      0.504       0.37      0.379      0.246\n",
            "\n",
            "      Epoch    GPU_mem   box_loss   cls_loss   dfl_loss  Instances       Size\n"
          ]
        },
        {
          "name": "stderr",
          "output_type": "stream",
          "text": [
            "       2/20      2.92G      1.346      1.475      1.161        119        640: 100%|██████████| 1024/1024 [00:37<00:00, 27.03it/s]\n",
            "                 Class     Images  Instances      Box(P          R      mAP50  mAP50-95): 100%|██████████| 147/147 [00:06<00:00, 22.95it/s]\n"
          ]
        },
        {
          "name": "stdout",
          "output_type": "stream",
          "text": [
            "                   all       4680      27382      0.591      0.417      0.452      0.295\n",
            "\n",
            "      Epoch    GPU_mem   box_loss   cls_loss   dfl_loss  Instances       Size\n"
          ]
        },
        {
          "name": "stderr",
          "output_type": "stream",
          "text": [
            "       3/20      2.57G      1.344      1.333      1.159        159        640: 100%|██████████| 1024/1024 [00:38<00:00, 26.92it/s]\n",
            "                 Class     Images  Instances      Box(P          R      mAP50  mAP50-95): 100%|██████████| 147/147 [00:06<00:00, 23.26it/s]\n"
          ]
        },
        {
          "name": "stdout",
          "output_type": "stream",
          "text": [
            "                   all       4680      27382      0.612      0.454      0.496      0.326\n",
            "\n",
            "      Epoch    GPU_mem   box_loss   cls_loss   dfl_loss  Instances       Size\n"
          ]
        },
        {
          "name": "stderr",
          "output_type": "stream",
          "text": [
            "       4/20      2.79G      1.321      1.259      1.151        176        640: 100%|██████████| 1024/1024 [00:36<00:00, 27.88it/s]\n",
            "                 Class     Images  Instances      Box(P          R      mAP50  mAP50-95): 100%|██████████| 147/147 [00:06<00:00, 23.52it/s]\n"
          ]
        },
        {
          "name": "stdout",
          "output_type": "stream",
          "text": [
            "                   all       4680      27382      0.676      0.488      0.549       0.37\n",
            "\n",
            "      Epoch    GPU_mem   box_loss   cls_loss   dfl_loss  Instances       Size\n"
          ]
        },
        {
          "name": "stderr",
          "output_type": "stream",
          "text": [
            "       5/20      2.55G      1.298      1.185       1.14        126        640: 100%|██████████| 1024/1024 [00:36<00:00, 28.00it/s]\n",
            "                 Class     Images  Instances      Box(P          R      mAP50  mAP50-95): 100%|██████████| 147/147 [00:06<00:00, 23.34it/s]\n"
          ]
        },
        {
          "name": "stdout",
          "output_type": "stream",
          "text": [
            "                   all       4680      27382      0.696      0.512      0.579      0.389\n",
            "\n",
            "      Epoch    GPU_mem   box_loss   cls_loss   dfl_loss  Instances       Size\n"
          ]
        },
        {
          "name": "stderr",
          "output_type": "stream",
          "text": [
            "       6/20      2.77G      1.272       1.15      1.127        147        640: 100%|██████████| 1024/1024 [00:36<00:00, 27.88it/s]\n",
            "                 Class     Images  Instances      Box(P          R      mAP50  mAP50-95): 100%|██████████| 147/147 [00:06<00:00, 23.65it/s]\n"
          ]
        },
        {
          "name": "stdout",
          "output_type": "stream",
          "text": [
            "                   all       4680      27382       0.74      0.519      0.599      0.407\n",
            "\n",
            "      Epoch    GPU_mem   box_loss   cls_loss   dfl_loss  Instances       Size\n"
          ]
        },
        {
          "name": "stderr",
          "output_type": "stream",
          "text": [
            "       7/20      2.94G      1.257      1.109      1.118         95        640: 100%|██████████| 1024/1024 [00:37<00:00, 27.02it/s]\n",
            "                 Class     Images  Instances      Box(P          R      mAP50  mAP50-95): 100%|██████████| 147/147 [00:06<00:00, 22.90it/s]\n"
          ]
        },
        {
          "name": "stdout",
          "output_type": "stream",
          "text": [
            "                   all       4680      27382      0.718      0.543      0.609      0.419\n",
            "\n",
            "      Epoch    GPU_mem   box_loss   cls_loss   dfl_loss  Instances       Size\n"
          ]
        },
        {
          "name": "stderr",
          "output_type": "stream",
          "text": [
            "       8/20      2.98G      1.235       1.07       1.11        130        640: 100%|██████████| 1024/1024 [00:37<00:00, 27.17it/s]\n",
            "                 Class     Images  Instances      Box(P          R      mAP50  mAP50-95): 100%|██████████| 147/147 [00:06<00:00, 22.97it/s]\n"
          ]
        },
        {
          "name": "stdout",
          "output_type": "stream",
          "text": [
            "                   all       4680      27382       0.76      0.546      0.633      0.434\n",
            "\n",
            "      Epoch    GPU_mem   box_loss   cls_loss   dfl_loss  Instances       Size\n"
          ]
        },
        {
          "name": "stderr",
          "output_type": "stream",
          "text": [
            "       9/20       2.7G      1.219      1.046      1.103        137        640: 100%|██████████| 1024/1024 [00:40<00:00, 25.48it/s]\n",
            "                 Class     Images  Instances      Box(P          R      mAP50  mAP50-95): 100%|██████████| 147/147 [00:06<00:00, 23.34it/s]\n"
          ]
        },
        {
          "name": "stdout",
          "output_type": "stream",
          "text": [
            "                   all       4680      27382      0.755      0.576      0.651      0.453\n",
            "\n",
            "      Epoch    GPU_mem   box_loss   cls_loss   dfl_loss  Instances       Size\n"
          ]
        },
        {
          "name": "stderr",
          "output_type": "stream",
          "text": [
            "      10/20      2.55G      1.205      1.019      1.094        142        640: 100%|██████████| 1024/1024 [00:37<00:00, 27.34it/s]\n",
            "                 Class     Images  Instances      Box(P          R      mAP50  mAP50-95): 100%|██████████| 147/147 [00:06<00:00, 22.64it/s]\n"
          ]
        },
        {
          "name": "stdout",
          "output_type": "stream",
          "text": [
            "                   all       4680      27382      0.782      0.576      0.662      0.466\n",
            "Closing dataloader mosaic\n",
            "\n",
            "      Epoch    GPU_mem   box_loss   cls_loss   dfl_loss  Instances       Size\n"
          ]
        },
        {
          "name": "stderr",
          "output_type": "stream",
          "text": [
            "      11/20      2.62G       1.18     0.9495       1.07         64        640: 100%|██████████| 1024/1024 [00:37<00:00, 27.11it/s]\n",
            "                 Class     Images  Instances      Box(P          R      mAP50  mAP50-95): 100%|██████████| 147/147 [00:06<00:00, 23.69it/s]\n"
          ]
        },
        {
          "name": "stdout",
          "output_type": "stream",
          "text": [
            "                   all       4680      27382      0.777      0.586      0.667      0.468\n",
            "\n",
            "      Epoch    GPU_mem   box_loss   cls_loss   dfl_loss  Instances       Size\n"
          ]
        },
        {
          "name": "stderr",
          "output_type": "stream",
          "text": [
            "      12/20      2.67G       1.16     0.9141       1.06         96        640: 100%|██████████| 1024/1024 [00:36<00:00, 27.73it/s]\n",
            "                 Class     Images  Instances      Box(P          R      mAP50  mAP50-95): 100%|██████████| 147/147 [00:06<00:00, 22.41it/s]\n"
          ]
        },
        {
          "name": "stdout",
          "output_type": "stream",
          "text": [
            "                   all       4680      27382      0.791      0.601      0.677      0.477\n",
            "\n",
            "      Epoch    GPU_mem   box_loss   cls_loss   dfl_loss  Instances       Size\n"
          ]
        },
        {
          "name": "stderr",
          "output_type": "stream",
          "text": [
            "      13/20       2.7G       1.15     0.8912      1.054         76        640: 100%|██████████| 1024/1024 [00:38<00:00, 26.91it/s]\n",
            "                 Class     Images  Instances      Box(P          R      mAP50  mAP50-95): 100%|██████████| 147/147 [00:06<00:00, 22.96it/s]\n"
          ]
        },
        {
          "name": "stdout",
          "output_type": "stream",
          "text": [
            "                   all       4680      27382      0.786      0.604      0.687      0.486\n",
            "\n",
            "      Epoch    GPU_mem   box_loss   cls_loss   dfl_loss  Instances       Size\n"
          ]
        },
        {
          "name": "stderr",
          "output_type": "stream",
          "text": [
            "      14/20       2.5G      1.133     0.8707      1.045         97        640: 100%|██████████| 1024/1024 [00:37<00:00, 27.20it/s]\n",
            "                 Class     Images  Instances      Box(P          R      mAP50  mAP50-95): 100%|██████████| 147/147 [00:06<00:00, 23.13it/s]\n"
          ]
        },
        {
          "name": "stdout",
          "output_type": "stream",
          "text": [
            "                   all       4680      27382      0.807      0.609      0.697      0.497\n",
            "\n",
            "      Epoch    GPU_mem   box_loss   cls_loss   dfl_loss  Instances       Size\n"
          ]
        },
        {
          "name": "stderr",
          "output_type": "stream",
          "text": [
            "      15/20      2.44G      1.119     0.8466       1.04         90        640: 100%|██████████| 1024/1024 [00:36<00:00, 27.74it/s]\n",
            "                 Class     Images  Instances      Box(P          R      mAP50  mAP50-95): 100%|██████████| 147/147 [00:06<00:00, 23.94it/s]\n"
          ]
        },
        {
          "name": "stdout",
          "output_type": "stream",
          "text": [
            "                   all       4680      27382      0.813      0.619      0.704      0.507\n",
            "\n",
            "      Epoch    GPU_mem   box_loss   cls_loss   dfl_loss  Instances       Size\n"
          ]
        },
        {
          "name": "stderr",
          "output_type": "stream",
          "text": [
            "      16/20      2.68G      1.104     0.8266      1.033         60        640: 100%|██████████| 1024/1024 [00:38<00:00, 26.72it/s]\n",
            "                 Class     Images  Instances      Box(P          R      mAP50  mAP50-95): 100%|██████████| 147/147 [00:06<00:00, 22.61it/s]\n"
          ]
        },
        {
          "name": "stdout",
          "output_type": "stream",
          "text": [
            "                   all       4680      27382      0.793      0.634       0.71      0.513\n",
            "\n",
            "      Epoch    GPU_mem   box_loss   cls_loss   dfl_loss  Instances       Size\n"
          ]
        },
        {
          "name": "stderr",
          "output_type": "stream",
          "text": [
            "      17/20      2.34G      1.092     0.8136      1.027         52        640: 100%|██████████| 1024/1024 [00:36<00:00, 28.16it/s]\n",
            "                 Class     Images  Instances      Box(P          R      mAP50  mAP50-95): 100%|██████████| 147/147 [00:06<00:00, 23.43it/s]\n"
          ]
        },
        {
          "name": "stdout",
          "output_type": "stream",
          "text": [
            "                   all       4680      27382      0.809      0.627      0.713      0.517\n",
            "\n",
            "      Epoch    GPU_mem   box_loss   cls_loss   dfl_loss  Instances       Size\n"
          ]
        },
        {
          "name": "stderr",
          "output_type": "stream",
          "text": [
            "      18/20      2.69G      1.075     0.7879      1.017         90        640: 100%|██████████| 1024/1024 [00:36<00:00, 27.73it/s]\n",
            "                 Class     Images  Instances      Box(P          R      mAP50  mAP50-95): 100%|██████████| 147/147 [00:06<00:00, 22.97it/s]\n"
          ]
        },
        {
          "name": "stdout",
          "output_type": "stream",
          "text": [
            "                   all       4680      27382      0.807      0.641      0.717      0.523\n",
            "\n",
            "      Epoch    GPU_mem   box_loss   cls_loss   dfl_loss  Instances       Size\n"
          ]
        },
        {
          "name": "stderr",
          "output_type": "stream",
          "text": [
            "      19/20      2.68G      1.065     0.7746      1.012         70        640: 100%|██████████| 1024/1024 [00:36<00:00, 28.18it/s]\n",
            "                 Class     Images  Instances      Box(P          R      mAP50  mAP50-95): 100%|██████████| 147/147 [00:06<00:00, 23.26it/s]\n"
          ]
        },
        {
          "name": "stdout",
          "output_type": "stream",
          "text": [
            "                   all       4680      27382      0.824      0.635      0.722      0.528\n",
            "\n",
            "      Epoch    GPU_mem   box_loss   cls_loss   dfl_loss  Instances       Size\n"
          ]
        },
        {
          "name": "stderr",
          "output_type": "stream",
          "text": [
            "      20/20      2.47G      1.053     0.7607      1.006        130        640: 100%|██████████| 1024/1024 [00:37<00:00, 27.59it/s]\n",
            "                 Class     Images  Instances      Box(P          R      mAP50  mAP50-95): 100%|██████████| 147/147 [00:06<00:00, 23.71it/s]\n"
          ]
        },
        {
          "name": "stdout",
          "output_type": "stream",
          "text": [
            "                   all       4680      27382      0.821      0.645      0.726      0.534\n",
            "\n",
            "20 epochs completed in 0.248 hours.\n",
            "Optimizer stripped from runs/detect/train6/weights/last.pt, 6.2MB\n",
            "Optimizer stripped from runs/detect/train6/weights/best.pt, 6.2MB\n",
            "\n",
            "Validating runs/detect/train6/weights/best.pt...\n",
            "Ultralytics YOLOv8.2.95 🚀 Python-3.12.5 torch-2.4.0+cu121 CUDA:0 (NVIDIA GeForce RTX 4090, 24209MiB)\n",
            "Model summary (fused): 168 layers, 3,008,183 parameters, 0 gradients, 8.1 GFLOPs\n"
          ]
        },
        {
          "name": "stderr",
          "output_type": "stream",
          "text": [
            "                 Class     Images  Instances      Box(P          R      mAP50  mAP50-95): 100%|██████████| 147/147 [00:07<00:00, 19.69it/s]\n"
          ]
        },
        {
          "name": "stdout",
          "output_type": "stream",
          "text": [
            "                   all       4680      27382      0.823      0.644      0.726      0.534\n",
            "                Worker       3730      18144      0.869      0.655      0.771      0.477\n",
            "          Static crane        797       1665      0.804      0.709      0.781      0.588\n",
            "          Hanging head        434        576       0.81      0.326      0.418      0.214\n",
            "                 Crane        435        579      0.795      0.646      0.716      0.517\n",
            "                Roller        159        189      0.885      0.783      0.857      0.741\n",
            "             Bulldozer        224        247      0.848      0.746      0.828       0.66\n",
            "             Excavator       1720       2515      0.907      0.784      0.866      0.688\n",
            "                 Truck        707       1187      0.806       0.57       0.68       0.51\n",
            "                Loader        209        219      0.795      0.626      0.704      0.562\n",
            "            Pump truck        287        321        0.8      0.769      0.802       0.62\n",
            "        Concrete mixer        237        333      0.842      0.719       0.79       0.58\n",
            "          Pile driving        144        244       0.76      0.627      0.706       0.46\n",
            "         Other vehicle        655       1163      0.777      0.415      0.515      0.331\n",
            "Speed: 0.1ms preprocess, 0.2ms inference, 0.0ms loss, 0.3ms postprocess per image\n",
            "Results saved to \u001b[1mruns/detect/train6\u001b[0m\n"
          ]
        },
        {
          "data": {
            "text/html": [
              "<style>\n",
              "    table.wandb td:nth-child(1) { padding: 0 10px; text-align: left ; width: auto;} td:nth-child(2) {text-align: left ; width: 100%}\n",
              "    .wandb-row { display: flex; flex-direction: row; flex-wrap: wrap; justify-content: flex-start; width: 100% }\n",
              "    .wandb-col { display: flex; flex-direction: column; flex-basis: 100%; flex: 1; padding: 10px; }\n",
              "    </style>\n",
              "<div class=\"wandb-row\"><div class=\"wandb-col\"><h3>Run history:</h3><br/><table class=\"wandb\"><tr><td>lr/pg0</td><td>▃▆██▇▇▆▆▆▅▅▄▄▃▃▃▂▂▁▁</td></tr><tr><td>lr/pg1</td><td>▃▆██▇▇▆▆▆▅▅▄▄▃▃▃▂▂▁▁</td></tr><tr><td>lr/pg2</td><td>▃▆██▇▇▆▆▆▅▅▄▄▃▃▃▂▂▁▁</td></tr><tr><td>metrics/mAP50(B)</td><td>▁▂▃▄▅▅▆▆▆▇▇▇▇▇██████</td></tr><tr><td>metrics/mAP50-95(B)</td><td>▁▂▃▄▄▅▅▆▆▆▆▇▇▇▇▇████</td></tr><tr><td>metrics/precision(B)</td><td>▁▃▃▅▅▆▆▇▆▇▇▇▇██▇████</td></tr><tr><td>metrics/recall(B)</td><td>▁▂▃▄▅▅▅▅▆▆▇▇▇▇▇█████</td></tr><tr><td>model/GFLOPs</td><td>▁</td></tr><tr><td>model/parameters</td><td>▁</td></tr><tr><td>model/speed_PyTorch(ms)</td><td>▁</td></tr><tr><td>train/box_loss</td><td>█▇▇▇▆▆▅▅▅▄▄▃▃▃▂▂▂▁▁▁</td></tr><tr><td>train/cls_loss</td><td>█▅▄▄▃▃▃▃▂▂▂▂▂▂▁▁▁▁▁▁</td></tr><tr><td>train/dfl_loss</td><td>█▇▇▇▆▆▆▅▅▅▄▃▃▃▂▂▂▁▁▁</td></tr><tr><td>val/box_loss</td><td>███▇▆▅▅▄▄▃▃▃▃▂▂▂▂▂▁▁</td></tr><tr><td>val/cls_loss</td><td>█▇▆▅▅▄▄▃▃▃▃▃▂▂▂▂▁▁▁▁</td></tr><tr><td>val/dfl_loss</td><td>▇██▇▆▅▅▄▄▄▃▃▃▂▂▂▂▁▁▁</td></tr></table><br/></div><div class=\"wandb-col\"><h3>Run summary:</h3><br/><table class=\"wandb\"><tr><td>lr/pg0</td><td>3e-05</td></tr><tr><td>lr/pg1</td><td>3e-05</td></tr><tr><td>lr/pg2</td><td>3e-05</td></tr><tr><td>metrics/mAP50(B)</td><td>0.72566</td></tr><tr><td>metrics/mAP50-95(B)</td><td>0.53441</td></tr><tr><td>metrics/precision(B)</td><td>0.8229</td></tr><tr><td>metrics/recall(B)</td><td>0.64422</td></tr><tr><td>model/GFLOPs</td><td>8.207</td></tr><tr><td>model/parameters</td><td>3013383</td></tr><tr><td>model/speed_PyTorch(ms)</td><td>0.305</td></tr><tr><td>train/box_loss</td><td>1.053</td></tr><tr><td>train/cls_loss</td><td>0.76069</td></tr><tr><td>train/dfl_loss</td><td>1.00567</td></tr><tr><td>val/box_loss</td><td>1.07686</td></tr><tr><td>val/cls_loss</td><td>0.76908</td></tr><tr><td>val/dfl_loss</td><td>0.99905</td></tr></table><br/></div></div>"
            ],
            "text/plain": [
              "<IPython.core.display.HTML object>"
            ]
          },
          "metadata": {},
          "output_type": "display_data"
        },
        {
          "data": {
            "text/html": [
              " View run <strong style=\"color:#cdcd00\">train6</strong> at: <a href='https://wandb.ai/maxglo/YOLOv8/runs/rg3arrw8' target=\"_blank\">https://wandb.ai/maxglo/YOLOv8/runs/rg3arrw8</a><br/> View project at: <a href='https://wandb.ai/maxglo/YOLOv8' target=\"_blank\">https://wandb.ai/maxglo/YOLOv8</a><br/>Synced 4 W&B file(s), 0 media file(s), 13 artifact file(s) and 24 other file(s)"
            ],
            "text/plain": [
              "<IPython.core.display.HTML object>"
            ]
          },
          "metadata": {},
          "output_type": "display_data"
        },
        {
          "data": {
            "text/html": [
              "Find logs at: <code>./wandb/run-20240918_134715-rg3arrw8/logs</code>"
            ],
            "text/plain": [
              "<IPython.core.display.HTML object>"
            ]
          },
          "metadata": {},
          "output_type": "display_data"
        }
      ],
      "source": [
        "# load a pretrained COCO model and fine tune it (recommended for training)\n",
        "model = YOLO('yolov8n.pt') # Detection\n",
        "\n",
        "# Train the model\n",
        "results = model.train(data='data.yaml', epochs=20, imgsz=640)"
      ]
    }
  ],
  "metadata": {
    "accelerator": "GPU",
    "colab": {
      "gpuType": "T4",
      "provenance": []
    },
    "kernelspec": {
      "display_name": "Python 3",
      "name": "python3"
    },
    "language_info": {
      "codemirror_mode": {
        "name": "ipython",
        "version": 3
      },
      "file_extension": ".py",
      "mimetype": "text/x-python",
      "name": "python",
      "nbconvert_exporter": "python",
      "pygments_lexer": "ipython3",
      "version": "3.12.5"
    }
  },
  "nbformat": 4,
  "nbformat_minor": 0
}
